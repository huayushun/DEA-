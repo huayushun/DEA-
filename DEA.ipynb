{
 "cells": [
  {
   "cell_type": "code",
   "execution_count": 2,
   "id": "6ca88dc9",
   "metadata": {},
   "outputs": [
    {
     "name": "stdout",
     "output_type": "stream",
     "text": [
      "Collecting gurobipy\n",
      "  Downloading gurobipy-9.5.2-cp38-cp38-win_amd64.whl (8.9 MB)\n",
      "Installing collected packages: gurobipy\n",
      "Successfully installed gurobipy-9.5.2\n",
      "Note: you may need to restart the kernel to use updated packages.\n"
     ]
    }
   ],
   "source": [
    "pip install gurobipy"
   ]
  },
  {
   "cell_type": "markdown",
   "id": "c6635db2",
   "metadata": {},
   "source": [
    "## 定义DEA函数"
   ]
  },
  {
   "cell_type": "code",
   "execution_count": 11,
   "id": "00733d53",
   "metadata": {},
   "outputs": [],
   "source": [
    "import gurobipy\n",
    "import pandas as pd\n",
    "\n",
    "# 分页显示数据, 设置为 False 不允许分页\n",
    "pd.set_option('display.expand_frame_repr', False)\n",
    "\n",
    "# 最多显示的列数, 设置为 None 显示全部列\n",
    "pd.set_option('display.max_columns', None)\n",
    "\n",
    "# 最多显示的行数, 设置为 None 显示全部行\n",
    "pd.set_option('display.max_rows', None)\n",
    "\n",
    "class DEA(object):\n",
    "    def __init__(self, DMUs_Name, X, Y, AP=False):\n",
    "        self.m1, self.m1_name, self.m2, self.m2_name, self.AP = X.shape[1], X.columns.tolist(), Y.shape[1], Y.columns.tolist(), AP\n",
    "        self.DMUs, self.X, self.Y = gurobipy.multidict({DMU: [X.loc[DMU].tolist(), Y.loc[DMU].tolist()] for DMU in DMUs_Name})\n",
    "        print(f'DEA(AP={AP}) MODEL RUNING...')\n",
    "\n",
    "    def __CCR(self):\n",
    "        for k in self.DMUs:\n",
    "            MODEL = gurobipy.Model()\n",
    "            OE, lambdas, s_negitive, s_positive = MODEL.addVar(), MODEL.addVars(self.DMUs),  MODEL.addVars(self.m1), MODEL.addVars(self.m2)\n",
    "            MODEL.update()\n",
    "            MODEL.setObjectiveN(OE, index=0, priority=1)  #多目标优化(默认最小值)\n",
    "            MODEL.setObjectiveN(-(sum(s_negitive) + sum(s_positive)), index=1, priority=0)\n",
    "            MODEL.addConstrs(gurobipy.quicksum(lambdas[i] * self.X[i][j] for i in self.DMUs if i != k or not self.AP) + s_negitive[j] == OE * self.X[k][j] for j in range(self.m1))\n",
    "            MODEL.addConstrs(gurobipy.quicksum(lambdas[i] * self.Y[i][j] for i in self.DMUs if i != k or not self.AP) - s_positive[j] == self.Y[k][j] for j in range(self.m2))\n",
    "            MODEL.setParam('OutputFlag', 0)\n",
    "            MODEL.optimize()\n",
    "            self.Result.at[k, ('效益分析', '综合技术效益(CCR)')] = MODEL.objVal\n",
    "        return self.Result\n",
    "\n",
    "    def __BCC(self):\n",
    "        for k in self.DMUs:\n",
    "            MODEL = gurobipy.Model()\n",
    "            TE, lambdas, s_negitive, s_positive = MODEL.addVar(), MODEL.addVars(self.DMUs),  MODEL.addVars(self.m1), MODEL.addVars(self.m2)\n",
    "            MODEL.update()\n",
    "            MODEL.setObjectiveN(TE, index=0, priority=1)  #多目标优化(默认最小值)\n",
    "            MODEL.setObjectiveN(-(sum(s_negitive) + sum(s_positive)), index=1, priority=0)\n",
    "            MODEL.addConstrs(gurobipy.quicksum(lambdas[i] * self.X[i][j] for i in self.DMUs if i != k or not self.AP)+ s_negitive[j] == TE * self.X[k][j] for j in range(self.m1))\n",
    "            MODEL.addConstrs(gurobipy.quicksum(lambdas[i] * self.Y[i][j] for i in self.DMUs if i != k or not self.AP) - s_positive[j] == self.Y[k][j] for j in range(self.m2))\n",
    "            MODEL.addConstr(gurobipy.quicksum(lambdas[i] for i in self.DMUs if i != k or not self.AP) == 1)\n",
    "            MODEL.setParam('OutputFlag', 0)\n",
    "            MODEL.optimize()\n",
    "            self.Result.at[k, ('效益分析', '技术效益(BCC)')] = MODEL.objVal if MODEL.status == gurobipy.GRB.Status.OPTIMAL else 'N/A'\n",
    "            self.Result.at[k, ('规模报酬分析', '有效性')] = '非 DEA 有效' if MODEL.objVal < 1 else 'DEA 弱有效' if s_negitive.sum().getValue() + s_positive.sum().getValue()!=0 else 'DEA 强有效'\n",
    "            ##self.Result.at[k, ('规模报酬分析', '类型')] = '规模报酬固定' if lambdas.sum().getValue() == 1 else '规模报酬递增' if lambdas.sum().getValue() < 1 else '规模报酬递减'\n",
    "            for m in range(self.m1):\n",
    "                self.Result.at[k, ('差额变数分析', f'{self.m1_name[m]}')] = s_negitive[m].X\n",
    "                self.Result.at[k, ('投入冗余率',  f'{self.m1_name[m]}')] = 'N/A' if self.X[k][m] == 0 else s_negitive[m].X / self.X[k][m]\n",
    "            for m in range(self.m2):\n",
    "                self.Result.at[k, ('差额变数分析', f'{self.m2_name[m]}')] = s_positive[m].X\n",
    "                self.Result.at[k, ('产出不足率', f'{self.m2_name[m]}')] = 'N/A' if self.Y[k][m] == 0 else s_positive[m].X / self.Y[k][m]\n",
    "        return self.Result\n",
    "\n",
    "    def dea(self):\n",
    "        columns_Page = ['效益分析'] * 3 + ['规模报酬分析'] * 1 + ['差额变数分析'] * (self.m1 + self.m2) + ['投入冗余率'] * self.m1 + ['产出不足率'] * self.m2\n",
    "        columns_Group = ['技术效益(BCC)', '规模效益(CCR/BCC)', '综合技术效益(CCR)','有效性'] + (self.m1_name + self.m2_name) * 2\n",
    "        self.Result = pd.DataFrame(index=self.DMUs, columns=[columns_Page, columns_Group])\n",
    "        self.__CCR()\n",
    "        self.__BCC()\n",
    "        self.Result.loc[:, ('效益分析', '规模效益(CCR/BCC)')] = self.Result.loc[:, ('效益分析', '综合技术效益(CCR)')] / self.Result.loc[:,('效益分析', '技术效益(BCC)')]\n",
    "        return self.Result\n",
    "\n",
    "    def analysis(self, file_name=None):\n",
    "        Result = self.dea()\n",
    "        file_name = 'DEA 数据包络分析报告.xlsx' if file_name is None else f'\\\\{file_name}.xlsx'\n",
    "        Result.to_excel(file_name, 'DEA 数据包络分析报告')"
   ]
  },
  {
   "cell_type": "markdown",
   "id": "d175ecc7",
   "metadata": {},
   "source": [
    "## 数据输入"
   ]
  },
  {
   "cell_type": "code",
   "execution_count": 12,
   "id": "4a4cceb3",
   "metadata": {},
   "outputs": [],
   "source": [
    "data = pd.DataFrame({1990: [14.40, 0.65, 31.30, 3621.00, 0.00], 1991: [16.90, 0.72, 32.20, 3943.00, 0.09],1992: [15.53, 0.72, 31.87, 4086.67, 0.07], 1993: [15.40, 0.76, 32.23, 4904.67, 0.13],\n",
    "1994: [14.17, 0.76, 32.40, 6311.67, 0.37], 1995: [13.33, 0.69, 30.77, 8173.33, 0.59],\n",
    "1996: [12.83, 0.61, 29.23, 10236.00, 0.51], 1997: [13.00, 0.63, 28.20, 12094.33, 0.44],\n",
    "1998: [13.40, 0.75, 28.80, 13603.33, 0.58], 1999: [14.00, 0.84, 29.10, 14841.00, 1.00]},\n",
    "index=['政府财政收入占 GDP 的比例/%', '环保投资占 GDP 的比例/%', '每千人科技人员数/人', '人均 GDP/元', '城市环境质量指数']).T"
   ]
  },
  {
   "cell_type": "markdown",
   "id": "e7dfd4d6",
   "metadata": {},
   "source": [
    "## 运行"
   ]
  },
  {
   "cell_type": "code",
   "execution_count": 13,
   "id": "d4f110bb",
   "metadata": {},
   "outputs": [
    {
     "name": "stdout",
     "output_type": "stream",
     "text": [
      "DEA(AP=False) MODEL RUNING...\n",
      "          效益分析                              规模报酬分析            差额变数分析                                                              投入冗余率                                产出不足率          \n",
      "     技术效益(BCC) 规模效益(CCR/BCC) 综合技术效益(CCR)       有效性 政府财政收入占 GDP 的比例/% 环保投资占 GDP 的比例/% 每千人科技人员数/人     人均 GDP/元 城市环境质量指数 政府财政收入占 GDP 的比例/% 环保投资占 GDP 的比例/% 每千人科技人员数/人  人均 GDP/元  城市环境质量指数\n",
      "1990  0.938462      0.309213    0.290184  非 DEA 有效          0.683846             0.0   0.143846       6615.0     0.51          0.047489             0.0   0.004596  1.826843       N/A\n",
      "1991  0.875776      0.325833    0.285357  非 DEA 有效          1.800621        0.000559        0.0      8151.33     0.35          0.106546        0.000776        0.0  2.067291  3.888889\n",
      "1992  0.884845      0.335456    0.296826  非 DEA 有效          0.741638        0.007088        0.0      8007.66     0.37          0.047755        0.009845        0.0  1.959458  5.285714\n",
      "1993  0.874961      0.391463    0.342515  非 DEA 有效          0.474403        0.034971        0.0      7189.66     0.31          0.030805        0.046014        0.0   1.46588  2.384615\n",
      "1994  0.905434       0.50746    0.459471  非 DEA 有效               0.0         0.07813   0.106062      3924.33     0.14               0.0        0.102802   0.003274  0.621758  0.378378\n",
      "1995  0.976821      0.735305    0.718261  非 DEA 有效               0.0        0.026455   0.847999  2814.506735      0.0               0.0        0.038341   0.027559  0.344353       0.0\n",
      "1996       1.0      0.906911    0.906911   DEA 强有效               0.0             0.0        0.0          0.0      0.0               0.0             0.0        0.0       0.0       0.0\n",
      "1997       1.0           1.0         1.0   DEA 强有效               0.0             0.0        0.0          0.0      0.0               0.0             0.0        0.0       0.0       0.0\n",
      "1998       1.0           1.0         1.0   DEA 强有效               0.0             0.0        0.0          0.0      0.0               0.0             0.0        0.0       0.0       0.0\n",
      "1999       1.0           1.0         1.0   DEA 强有效               0.0             0.0        0.0          0.0      0.0               0.0             0.0        0.0       0.0       0.0\n"
     ]
    }
   ],
   "source": [
    "# 定义X,Y\n",
    "X = data[['政府财政收入占 GDP 的比例/%', '环保投资占 GDP 的比例/%', '每千人科技人员数/人']]\n",
    "Y = data[['人均 GDP/元', '城市环境质量指数']]\n",
    "\n",
    "dea = DEA(DMUs_Name=data.index, X=X, Y=Y)\n",
    "dea.analysis() # dea 分析并输出表格\n",
    "print(dea.dea()) # dea 分析，不输出结果"
   ]
  },
  {
   "cell_type": "code",
   "execution_count": null,
   "id": "d7ed26b6",
   "metadata": {},
   "outputs": [],
   "source": []
  },
  {
   "cell_type": "code",
   "execution_count": null,
   "id": "c3272da6",
   "metadata": {},
   "outputs": [],
   "source": []
  },
  {
   "cell_type": "code",
   "execution_count": null,
   "id": "cf897349",
   "metadata": {},
   "outputs": [],
   "source": []
  },
  {
   "cell_type": "code",
   "execution_count": null,
   "id": "cf005bff",
   "metadata": {},
   "outputs": [],
   "source": []
  }
 ],
 "metadata": {
  "kernelspec": {
   "display_name": "Python 3",
   "language": "python",
   "name": "python3"
  },
  "language_info": {
   "codemirror_mode": {
    "name": "ipython",
    "version": 3
   },
   "file_extension": ".py",
   "mimetype": "text/x-python",
   "name": "python",
   "nbconvert_exporter": "python",
   "pygments_lexer": "ipython3",
   "version": "3.8.10"
  }
 },
 "nbformat": 4,
 "nbformat_minor": 5
}
